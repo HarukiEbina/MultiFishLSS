{
 "cells": [
  {
   "cell_type": "code",
   "execution_count": 1,
   "id": "8643024c",
   "metadata": {},
   "outputs": [],
   "source": [
    "import sys, os\n",
    "sys.path.append('../MultiFishLSS/')\n",
    "from headers import *\n",
    "from twoPoint import *\n",
    "from twoPointNoise import *\n",
    "from classy import Class\n"
   ]
  },
  {
   "cell_type": "markdown",
   "id": "b2f264ee",
   "metadata": {},
   "source": [
    "## Generate BAO forecasts"
   ]
  },
  {
   "cell_type": "markdown",
   "id": "12270dc0",
   "metadata": {},
   "source": [
    "#### Fiducial cosmology"
   ]
  },
  {
   "cell_type": "code",
   "execution_count": 5,
   "id": "599c89ef",
   "metadata": {},
   "outputs": [],
   "source": [
    "default_cosmo = {\n",
    "        'output': 'tCl lCl mPk',\n",
    "        'non linear':'halofit',\n",
    "        'l_max_scalars': 4000,\n",
    "        'lensing': 'yes',\n",
    "        'P_k_max_h/Mpc': 2.,\n",
    "        'z_pk': '0.0,1087',\n",
    "        'A_s': 2.10732e-9,\n",
    "        'n_s': 0.96824,\n",
    "        'alpha_s': 0.,\n",
    "        'h': 0.6736,\n",
    "        'N_ur': 2.0328,\n",
    "        'N_ncdm': 1,\n",
    "        'm_ncdm': 0.06,\n",
    "        'tau_reio': 0.0544,\n",
    "        'omega_b': 0.02237,\n",
    "        'omega_cdm': 0.1200,\n",
    "        'Omega_k': 0.,\n",
    "        'Omega_Lambda': 0.,\n",
    "        'w0_fld':-1,\n",
    "        'wa_fld':0}\n",
    "cosmo = Class()\n",
    "cosmo.set(default_cosmo)\n",
    "cosmo.compute()\n",
    "h = cosmo.h()\n",
    "\n",
    "chi = lambda zz: cosmo.comoving_distance(zz)*h"
   ]
  },
  {
   "cell_type": "markdown",
   "id": "311e449c",
   "metadata": {},
   "source": [
    "#### Experiment configuration"
   ]
  },
  {
   "cell_type": "code",
   "execution_count": 6,
   "id": "a40cb142",
   "metadata": {},
   "outputs": [],
   "source": [
    "fsky = 5000/41253 # 5000 deg2\n",
    "\n",
    "# two redshift bins from z = 2.7 to 3.3\n",
    "zmin, zmax = 2.7, 3.3\n",
    "nbins = 2\n",
    "\n",
    "# 2 galaxy samples \n",
    "# name, bias, number density as lists\n",
    "samples=['ga','gb']\n",
    "b = [lambda z: 2.5, lambda z: 3.5] \n",
    "n = [lambda z: 2e-4, lambda z: 2e-4]\n",
    "\n",
    "# overlap between stochastic terms\n",
    "# index 0 and 2 are auto-correlations, so they must be 1\n",
    "# index 1 is the cross-correlation between the two samples, set to 0 by default for no overlap\n",
    "fover=[1,0,1]\n",
    "\n",
    "# experiment name and basedir\n",
    "bd='./'\n",
    "surveyname='example'\n",
    "\n",
    "exp = experiment(zmin=zmin, zmax=zmax, nbins=nbins, fsky=fsky, b=b, n=n,samples=samples,fover=fover)\n",
    "forecast = fisherForecast(experiment=exp,cosmo=cosmo,name=surveyname,basedir=bd,ell=np.arange(10,3000,1))    "
   ]
  },
  {
   "cell_type": "markdown",
   "id": "287a2994",
   "metadata": {},
   "source": [
    "#### Compute derivatives (if not done already)\n",
    "\n",
    "Derivatives are computed faster with dedicated node, using `example_setup.sh`\n",
    "\n",
    "Turn `forecast.recon` to `True` to work on BAOs"
   ]
  },
  {
   "cell_type": "code",
   "execution_count": 11,
   "id": "6c2d4dae",
   "metadata": {},
   "outputs": [],
   "source": [
    "basis = np.array(['alpha_perp','alpha_parallel','b'])\n",
    "\n",
    "# set recon = True, so that we perform BAO reconstruction when computing the power spectrum\n",
    "forecast.recon = True\n",
    "\n",
    "forecast.free_params = basis\n",
    "forecast.compute_derivatives() # will not overwrite unless specified"
   ]
  },
  {
   "cell_type": "code",
   "execution_count": null,
   "id": "16d47161",
   "metadata": {},
   "outputs": [],
   "source": []
  },
  {
   "cell_type": "markdown",
   "id": "dc8797df",
   "metadata": {},
   "source": [
    "#### Use derivatives to construct Fisher matrix and get forecasts"
   ]
  },
  {
   "cell_type": "code",
   "execution_count": 12,
   "id": "cdc02064",
   "metadata": {},
   "outputs": [],
   "source": [
    "derivs = forecast.load_derivatives(basis)\n",
    "F = lambda i: forecast.gen_fisher(basis, 100, derivatives=derivs, zbins=np.array([i]))\n",
    "Fs = [F(i) for i in range(nbins)]\n",
    "Fs = np.array(Fs)"
   ]
  },
  {
   "cell_type": "code",
   "execution_count": 13,
   "id": "88ca7d46",
   "metadata": {},
   "outputs": [
    {
     "name": "stdout",
     "output_type": "stream",
     "text": [
      "Relative error on DA/rd: [0.007821436282346966, 0.008327988194172964]\n",
      "Relative error on H*rd: [0.011513224417099776, 0.012052890249509144]\n"
     ]
    }
   ],
   "source": [
    "Finvs = [np.linalg.inv(Fs[i]) for i in range(nbins)]\n",
    "saperp = [np.sqrt(Finvs[i][0,0]) for i in range(nbins)]\n",
    "saparr = [np.sqrt(Finvs[i][1,1]) for i in range(nbins)]\n",
    "print('Relative error on DA/rd:',saperp)\n",
    "print('Relative error on H*rd:',saparr)\n"
   ]
  },
  {
   "cell_type": "code",
   "execution_count": 14,
   "id": "2e981f30",
   "metadata": {},
   "outputs": [],
   "source": [
    "forecast.recon = False\n"
   ]
  },
  {
   "cell_type": "code",
   "execution_count": null,
   "id": "672ec497",
   "metadata": {},
   "outputs": [],
   "source": []
  },
  {
   "cell_type": "code",
   "execution_count": null,
   "id": "867c65a8",
   "metadata": {},
   "outputs": [],
   "source": []
  },
  {
   "cell_type": "code",
   "execution_count": null,
   "id": "7969e523",
   "metadata": {},
   "outputs": [],
   "source": []
  },
  {
   "cell_type": "code",
   "execution_count": null,
   "id": "cb49c89f",
   "metadata": {},
   "outputs": [],
   "source": []
  },
  {
   "cell_type": "markdown",
   "id": "8a463683",
   "metadata": {},
   "source": [
    "Fixed shape $\\sigma_8$ (assumes cross-correlation with SO)"
   ]
  },
  {
   "cell_type": "code",
   "execution_count": 13,
   "id": "3a4e73a6",
   "metadata": {},
   "outputs": [
    {
     "name": "stdout",
     "output_type": "stream",
     "text": [
      "[1, 3, 5, 7, 9]\n",
      "(sigma s8)/s8 at z=2.86: 4.04e-02\n",
      "[2, 4, 6, 8, 10]\n",
      "(sigma s8)/s8 at z=3.19: 3.74e-02\n"
     ]
    }
   ],
   "source": [
    "basis = np.array(['log(A_s)','b','N',])\n",
    "# derivatives = forecast.load_derivatives(basis)\n",
    "# F = forecast.gen_fisher(basis,7,kmax_knl=1.,derivatives=derivatives)\n",
    "\n",
    "for i in range(nbins):\n",
    "    globe = 1\n",
    "    F = forecast.gen_lensing_fisher(basis,globe,kmax_knl=.2,bins=np.array([i]),kk=False,no_kg=False) \n",
    "    idxs = np.arange(globe).tolist()\n",
    "    for j in range(F.shape[0]-globe):\n",
    "        if j%nbins == i: idxs += [globe + j]\n",
    "    Finv = np.linalg.inv(F[idxs][:,idxs])\n",
    "    print('(sigma s8)/s8 at z=%.2f: %.2e'%(forecast.experiment.zcenters[i],np.sqrt(np.diag(Finv))[0]/2) )# ds8/s8 "
   ]
  },
  {
   "cell_type": "code",
   "execution_count": null,
   "id": "6f28f387",
   "metadata": {},
   "outputs": [],
   "source": [
    "basis = np.array(['log(A_s)','b','N',])\n",
    "F = forecast.gen_lensing_fisher(basis,1,kmax_knl=.2) \n",
    "Finv = np.linalg.inv(F)\n",
    "print('sigma s8: %.2e'%(np.sqrt(np.diag(Finv))[0]/2) ) # ds8/s8 "
   ]
  }
 ],
 "metadata": {
  "kernelspec": {
   "display_name": "myenv",
   "language": "python",
   "name": "python3"
  },
  "language_info": {
   "codemirror_mode": {
    "name": "ipython",
    "version": 3
   },
   "file_extension": ".py",
   "mimetype": "text/x-python",
   "name": "python",
   "nbconvert_exporter": "python",
   "pygments_lexer": "ipython3",
   "version": "3.11.6"
  }
 },
 "nbformat": 4,
 "nbformat_minor": 5
}
