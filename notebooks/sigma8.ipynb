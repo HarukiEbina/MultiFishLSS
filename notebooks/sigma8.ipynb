{
 "cells": [
  {
   "cell_type": "code",
   "execution_count": 1,
   "id": "8643024c",
   "metadata": {},
   "outputs": [],
   "source": [
    "import sys, os\n",
    "sys.path.append('../MultiFishLSS/')\n",
    "from headers import *\n",
    "from twoPoint import *\n",
    "from twoPointNoise import *\n",
    "from classy import Class\n"
   ]
  },
  {
   "cell_type": "markdown",
   "id": "b2f264ee",
   "metadata": {},
   "source": [
    "## Generate $\\sigma_8$ forecasts"
   ]
  },
  {
   "cell_type": "markdown",
   "id": "12270dc0",
   "metadata": {},
   "source": [
    "#### Fiducial cosmology"
   ]
  },
  {
   "cell_type": "code",
   "execution_count": 2,
   "id": "599c89ef",
   "metadata": {},
   "outputs": [],
   "source": [
    "default_cosmo = {\n",
    "        'output': 'tCl lCl mPk',\n",
    "        'non linear':'halofit',\n",
    "        'l_max_scalars': 4000,\n",
    "        'lensing': 'yes',\n",
    "        'P_k_max_h/Mpc': 2.,\n",
    "        'z_pk': '0.0,1087',\n",
    "        'A_s': 2.10732e-9,\n",
    "        'n_s': 0.96824,\n",
    "        'alpha_s': 0.,\n",
    "        'h': 0.6736,\n",
    "        'N_ur': 2.0328,\n",
    "        'N_ncdm': 1,\n",
    "        'm_ncdm': 0.06,\n",
    "        'tau_reio': 0.0544,\n",
    "        'omega_b': 0.02237,\n",
    "        'omega_cdm': 0.1200,\n",
    "        'Omega_k': 0.,\n",
    "        'Omega_Lambda': 0.,\n",
    "        'w0_fld':-1,\n",
    "        'wa_fld':0}\n",
    "cosmo = Class()\n",
    "cosmo.set(default_cosmo)\n",
    "cosmo.compute()\n",
    "h = cosmo.h()\n",
    "\n",
    "chi = lambda zz: cosmo.comoving_distance(zz)*h"
   ]
  },
  {
   "cell_type": "markdown",
   "id": "311e449c",
   "metadata": {},
   "source": [
    "#### Experiment configuration"
   ]
  },
  {
   "cell_type": "code",
   "execution_count": 3,
   "id": "a40cb142",
   "metadata": {},
   "outputs": [],
   "source": [
    "fsky = 5000/41253 # 5000 deg2\n",
    "\n",
    "# two redshift bins from z = 2.7 to 3.3\n",
    "zmin, zmax = 2.7, 3.3\n",
    "nbins = 2\n",
    "\n",
    "# 2 galaxy samples \n",
    "# name, bias, number density as lists\n",
    "samples=['ga','gb']\n",
    "b = [lambda z: 2.5, lambda z: 3.5] \n",
    "n = [lambda z: 2e-4, lambda z: 2e-4]\n",
    "\n",
    "# overlap between stochastic terms\n",
    "# index 0 and 2 are auto-correlations, so they must be 1\n",
    "# index 1 is the cross-correlation between the two samples, set to 0 by default for no overlap\n",
    "fover=[1,0,1]\n",
    "\n",
    "# experiment name and basedir\n",
    "bd='./'\n",
    "surveyname='example'\n",
    "\n",
    "exp = experiment(zmin=zmin, zmax=zmax, nbins=nbins, fsky=fsky, b=b, n=n,samples=samples,fover=fover)\n",
    "forecast = fisherForecast(experiment=exp,cosmo=cosmo,name=surveyname,basedir=bd,ell=np.arange(10,3000,1))    "
   ]
  },
  {
   "cell_type": "markdown",
   "id": "287a2994",
   "metadata": {},
   "source": [
    "#### Compute derivatives (if not done already)\n",
    "\n",
    "Derivatives are computed faster with dedicated node, using `example_setup.sh`\n"
   ]
  },
  {
   "cell_type": "code",
   "execution_count": 4,
   "id": "6c2d4dae",
   "metadata": {},
   "outputs": [],
   "source": [
    "basis = np.array(['log(A_s)','b','N',])\n",
    "\n",
    "forecast.free_params = basis\n",
    "forecast.compute_derivatives() # will not overwrite unless specified"
   ]
  },
  {
   "cell_type": "code",
   "execution_count": null,
   "id": "16d47161",
   "metadata": {},
   "outputs": [],
   "source": []
  },
  {
   "cell_type": "markdown",
   "id": "dc8797df",
   "metadata": {},
   "source": [
    "#### Use derivatives to construct Fisher matrix and get forecasts"
   ]
  },
  {
   "cell_type": "markdown",
   "id": "e56fe000",
   "metadata": {},
   "source": [
    "$P_{gg}$"
   ]
  },
  {
   "cell_type": "code",
   "execution_count": null,
   "id": "cdc02064",
   "metadata": {},
   "outputs": [
    {
     "name": "stdout",
     "output_type": "stream",
     "text": [
      "bin 0 at z=2.85: sigma(s8)/s8 = 0.0339\n",
      "bin 1 at z=3.15: sigma(s8)/s8 = 0.0350\n",
      "combined: sigma(s8)/s8 = 0.0244\n"
     ]
    }
   ],
   "source": [
    "tmp = []\n",
    "for i in range(nbins):\n",
    "    globe = 1\n",
    "    z_i = forecast.experiment.zcenters[i]\n",
    "    knl = 1/np.sqrt(forecast.Sigma2(z_i))\n",
    "    # limit kmax to 0.1 h^-1 Mpc for linear regime\n",
    "    F = forecast.gen_fisher(basis,globe,kmax_knl=.1/knl,zbins=np.array([i])) \n",
    "    Finv = np.linalg.inv(F)\n",
    "    tmp.append(F)\n",
    "    print(f'bin {i} at z={z_i:.2f}: sigma(s8)/s8 = {np.sqrt(np.diag(Finv))[0]/2:.4f}')\n",
    "F = forecast.combine_fishers(tmp,1)\n",
    "Finv = np.linalg.inv(F)\n",
    "print(f'combined: sigma(s8)/s8 = {np.sqrt(np.diag(Finv))[0]/2:.4f}')\n"
   ]
  },
  {
   "cell_type": "markdown",
   "id": "4688a1fb",
   "metadata": {},
   "source": [
    "$C^{\\kappa g} + C^{gg}$ (assumes cross-correlation with SO by default)"
   ]
  },
  {
   "cell_type": "code",
   "execution_count": 16,
   "id": "88ca7d46",
   "metadata": {},
   "outputs": [
    {
     "name": "stdout",
     "output_type": "stream",
     "text": [
      "sigma (s8)/s8 at z=2.85: 0.0486\n",
      "sigma (s8)/s8 at z=3.15: 0.0513\n",
      "combined sigma (s8)/s8: 0.0353\n"
     ]
    }
   ],
   "source": [
    "tmp = []\n",
    "for i in range(nbins):\n",
    "    globe = 1\n",
    "    z_i = forecast.experiment.zcenters[i]\n",
    "    knl = 1/np.sqrt(forecast.Sigma2(z_i))\n",
    "    F = forecast.gen_lensing_fisher(basis,globe,kmax_knl=.1/knl,bins=np.array([i]),kk=False,no_kg=False) \n",
    "    idxs = np.arange(globe).tolist()\n",
    "    for j in range(F.shape[0]-globe): \n",
    "        if j%nbins == i: idxs += [globe + j] \n",
    "    tmp.append(F[idxs][:,idxs])\n",
    "    Finv = np.linalg.inv(F[idxs][:,idxs]) # select only relevant parameters\n",
    "    print('sigma (s8)/s8 at z=%.2f: %.4f'%(forecast.experiment.zcenters[i],np.sqrt(np.diag(Finv))[0]/2) )# ds8/s8 \n",
    "F = forecast.combine_fishers(tmp,1)\n",
    "Finv = np.linalg.inv(F)\n",
    "print('combined sigma (s8)/s8: %.4f'%(np.sqrt(np.diag(Finv))[0]/2) )# ds8/s8"
   ]
  },
  {
   "cell_type": "markdown",
   "id": "90455d75",
   "metadata": {},
   "source": [
    "$P_{gg} + C^{kg}$"
   ]
  },
  {
   "cell_type": "code",
   "execution_count": null,
   "id": "c2e19123",
   "metadata": {},
   "outputs": [],
   "source": [
    "tmp = []\n",
    "for i in range(nbins):\n",
    "    globe = 1\n",
    "    z_i = forecast.experiment.zcenters[i]\n",
    "    knl = 1/np.sqrt(forecast.Sigma2(z_i))\n",
    "    F = forecast.gen_fisher(basis,globe,kmax_knl=.1/knl,zbins=np.array([i]),kpar_min=1e-3) \n",
    "    F_Cl = forecast.gen_lensing_fisher(basis,globe,kmax_knl=.1/knl,bins=np.array([i]),kk=False,no_kg=False) \n",
    "    idxs = np.arange(globe).tolist()\n",
    "    for j in range(F_Cl.shape[0]-globe): \n",
    "        if j%nbins == i: idxs += [globe + j] \n",
    "    F_Cl = F_Cl[idxs][:,idxs]\n",
    "\n",
    "    # shared variables are logA + biases\n",
    "    F = forecast.combine_2fishers(F,F_Cl,globe + len(forecast.experiment.samples) )\n",
    "    tmp.append(F)\n",
    "    Finv = np.linalg.inv(F)\n",
    "    print('sigma (s8)/s8 at z=%.2f: %.4f'%(forecast.experiment.zcenters[i],np.sqrt(np.diag(Finv))[0]/2) )# ds8/s8 \n",
    "F = forecast.combine_fishers(tmp,1)\n",
    "Finv = np.linalg.inv(F)\n",
    "print('combined sigma (s8)/s8: %.4f'%(np.sqrt(np.diag(Finv))[0]/2) )# ds8/s8"
   ]
  },
  {
   "cell_type": "code",
   "execution_count": null,
   "id": "0f4ddd90",
   "metadata": {},
   "outputs": [],
   "source": []
  }
 ],
 "metadata": {
  "kernelspec": {
   "display_name": "myenv",
   "language": "python",
   "name": "python3"
  },
  "language_info": {
   "codemirror_mode": {
    "name": "ipython",
    "version": 3
   },
   "file_extension": ".py",
   "mimetype": "text/x-python",
   "name": "python",
   "nbconvert_exporter": "python",
   "pygments_lexer": "ipython3",
   "version": "3.11.6"
  }
 },
 "nbformat": 4,
 "nbformat_minor": 5
}
